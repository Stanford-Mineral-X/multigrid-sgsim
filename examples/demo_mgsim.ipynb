{
 "cells": [
  {
   "cell_type": "markdown",
   "id": "a2285e2a",
   "metadata": {},
   "source": [
    "## Load dependencies"
   ]
  },
  {
   "cell_type": "code",
   "execution_count": null,
   "id": "a9d38455",
   "metadata": {},
   "outputs": [],
   "source": [
    "# --- standard ---\n",
    "import os\n",
    "import sys\n",
    "import time\n",
    "from datetime import datetime\n",
    "\n",
    "# --- scientific ---\n",
    "import numpy as np\n",
    "import pandas as pd\n",
    "import xarray as xr\n",
    "import matplotlib as mpl\n",
    "import matplotlib.pyplot as plt\n",
    "import matplotlib.colors as mcolors\n",
    "from matplotlib.cm import ScalarMappable\n",
    "from matplotlib.colors import Normalize, LightSource\n",
    "from mpl_toolkits.axes_grid1 import make_axes_locatable\n",
    "from scipy import ndimage\n",
    "from scipy.interpolate import RBFInterpolator\n",
    "from scipy.spatial import cKDTree\n",
    "\n",
    "# --- machine learning / preprocessing ---\n",
    "from sklearn.preprocessing import QuantileTransformer\n",
    "from sklearn.cluster import KMeans, AgglomerativeClustering\n",
    "\n",
    "# --- geostatistics ---\n",
    "import skgstat as skg\n",
    "from skgstat import models\n",
    "import gstatsim as gs\n",
    "\n",
    "# --- image / geometry utilities ---\n",
    "from skimage.measure import find_contours\n",
    "\n",
    "# --- parallelization ---\n",
    "from joblib import Parallel, delayed\n",
    "\n",
    "# --- local utilities (custom colormap) ---\n",
    "from multigrid_sgsim.utils import geosoft_cmap_k65\n",
    "geosoft_cmap = geosoft_cmap_k65()\n",
    "ls = LightSource(azdeg=120, altdeg=45)\n"
   ]
  }
 ],
 "metadata": {
  "language_info": {
   "name": "python"
  }
 },
 "nbformat": 4,
 "nbformat_minor": 5
}
