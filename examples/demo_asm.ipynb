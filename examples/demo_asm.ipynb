{
 "cells": [
  {
   "cell_type": "markdown",
   "id": "a949079a",
   "metadata": {},
   "source": [
    "## Load dependencies"
   ]
  },
  {
   "cell_type": "code",
   "execution_count": 3,
   "id": "f595fb4d",
   "metadata": {},
   "outputs": [],
   "source": [
    "# --- standard ---\n",
    "import os\n",
    "import sys\n",
    "import time\n",
    "from datetime import datetime\n",
    "from pathlib import Path\n",
    "\n",
    "# --- scientific ---\n",
    "import numpy as np\n",
    "import pandas as pd\n",
    "import xarray as xr\n",
    "import matplotlib as mpl\n",
    "import matplotlib.pyplot as plt\n",
    "import matplotlib.colors as mcolors\n",
    "from matplotlib.cm import ScalarMappable\n",
    "from matplotlib.colors import Normalize, LightSource\n",
    "from mpl_toolkits.axes_grid1 import make_axes_locatable\n",
    "from scipy import ndimage\n",
    "from scipy.interpolate import RBFInterpolator\n",
    "from scipy.spatial import cKDTree\n",
    "\n",
    "# --- machine learning / preprocessing ---\n",
    "from sklearn.preprocessing import QuantileTransformer\n",
    "from sklearn.cluster import KMeans, AgglomerativeClustering\n",
    "\n",
    "# --- geostatistics ---\n",
    "import skgstat as skg\n",
    "from skgstat import models\n",
    "import gstatsim as gs\n",
    "\n",
    "# --- image / geometry utilities ---\n",
    "from skimage.measure import find_contours\n",
    "\n",
    "# --- parallelization ---\n",
    "from joblib import Parallel, delayed\n",
    "\n",
    "# --- local utilities (custom colormap) ---\n",
    "from multigrid_sgsim.utils import geosoft_cmap_k65\n",
    "geosoft_cmap = geosoft_cmap_k65()\n",
    "ls = LightSource(azdeg=120, altdeg=45)\n",
    "\n",
    "# --- local multigrid SGSIM implementation ---\n",
    "from multigrid_sgsim import mgsim, sampling, trendmaking\n",
    "from multigrid_sgsim.utils import cluster_variogram\n"
   ]
  },
  {
   "cell_type": "markdown",
   "id": "e1b0f52a",
   "metadata": {},
   "source": [
    "## Load and plot the (1) ground truth data and (2) the flightlines"
   ]
  },
  {
   "cell_type": "code",
   "execution_count": 4,
   "id": "a9c00dac",
   "metadata": {},
   "outputs": [],
   "source": [
    "## =================================================== ##\n",
    "## LOAD AND PLOT THE GROUND TRUTH DATA AND FLIGHTLINES ##\n",
    "## =================================================== ##\n",
    "\n",
    "## GROUND TRUTH \n",
    "rows = 50\n",
    "cols = 200\n",
    "df_loaded = pd.read_csv('/Users/jrines/stanford_gp/research/mx/computers_geosciences/data/synthetic_magnetic_groundtruth.csv')\n",
    "gt_xyv = df_loaded.values\n",
    "synthmag_gt = gt_xyv[:,2].reshape(rows, cols)\n",
    "\n",
    "## FLIGHTLINES\n",
    "fl_xyv = np.loadtxt(\n",
    "    \"/Users/jrines/stanford_gp/research/mx/computers_geosciences/data/synthetic_flightlines.csv\",\n",
    "    delimiter=\",\",\n",
    "    skiprows=1   # skip the header line\n",
    ")\n",
    "\n"
   ]
  }
 ],
 "metadata": {
  "kernelspec": {
   "display_name": "envMX",
   "language": "python",
   "name": "python3"
  },
  "language_info": {
   "codemirror_mode": {
    "name": "ipython",
    "version": 3
   },
   "file_extension": ".py",
   "mimetype": "text/x-python",
   "name": "python",
   "nbconvert_exporter": "python",
   "pygments_lexer": "ipython3",
   "version": "3.11.6"
  }
 },
 "nbformat": 4,
 "nbformat_minor": 5
}
