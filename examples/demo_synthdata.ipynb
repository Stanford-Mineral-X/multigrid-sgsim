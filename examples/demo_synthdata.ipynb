{
 "cells": [
  {
   "cell_type": "markdown",
   "id": "61872afa",
   "metadata": {},
   "source": [
    "## Load dependencies"
   ]
  },
  {
   "cell_type": "code",
   "execution_count": 2,
   "id": "57a59beb",
   "metadata": {},
   "outputs": [],
   "source": [
    "# --- standard ---\n",
    "import os\n",
    "import sys\n",
    "import time\n",
    "from datetime import datetime\n",
    "from pathlib import Path\n",
    "\n",
    "# --- scientific ---\n",
    "import numpy as np\n",
    "import pandas as pd\n",
    "import xarray as xr\n",
    "import matplotlib as mpl\n",
    "import matplotlib.pyplot as plt\n",
    "import matplotlib.colors as mcolors\n",
    "from matplotlib.cm import ScalarMappable\n",
    "from matplotlib.colors import Normalize, LightSource\n",
    "from mpl_toolkits.axes_grid1 import make_axes_locatable\n",
    "from scipy import ndimage\n",
    "from scipy.interpolate import RBFInterpolator\n",
    "from scipy.spatial import cKDTree\n",
    "\n",
    "# --- machine learning / preprocessing ---\n",
    "from sklearn.preprocessing import QuantileTransformer\n",
    "from sklearn.cluster import KMeans, AgglomerativeClustering\n",
    "\n",
    "# --- geostatistics ---\n",
    "import skgstat as skg\n",
    "from skgstat import models\n",
    "import gstatsim as gs\n",
    "\n",
    "# --- image / geometry utilities ---\n",
    "from skimage.measure import find_contours\n",
    "\n",
    "# --- parallelization ---\n",
    "from joblib import Parallel, delayed\n",
    "\n",
    "# --- local utilities (custom colormap) ---\n",
    "from multigrid_sgsim.utils import geosoft_cmap_k65\n",
    "geosoft_cmap = geosoft_cmap_k65()\n",
    "ls = LightSource(azdeg=120, altdeg=45)\n",
    "\n",
    "# --- local multigrid SGSIM implementation ---\n",
    "from multigrid_sgsim import mgsim, sampling, trendmaking\n",
    "from multigrid_sgsim.utils import cluster_variogram\n"
   ]
  },
  {
   "cell_type": "markdown",
   "id": "bb5125e4",
   "metadata": {},
   "source": [
    "## Load and plot synthetic data"
   ]
  },
  {
   "cell_type": "code",
   "execution_count": null,
   "id": "676f4dc3",
   "metadata": {},
   "outputs": [],
   "source": [
    "## LOAD SYNTHETIC GROUND TRUTH GRID AND FLIGHTLINES ##\n",
    "## ================================================ ##\n",
    "\n",
    "# GROUND TRUTH\n",
    "df_gt_xyvc = pd.read_csv(\"./data/gt_xyvc.csv\")\n",
    "gt_xyvc = df_gt_xyvc.values\n",
    "\n",
    "# FLIGHT LINES\n",
    "df_fl_xyvc = pd.read_csv(\"./data/fl_xyvc.csv\")\n",
    "fl_xyvc = df_fl_xyvc.values\n"
   ]
  },
  {
   "cell_type": "code",
   "execution_count": null,
   "id": "7f8a36a1",
   "metadata": {},
   "outputs": [],
   "source": []
  },
  {
   "cell_type": "code",
   "execution_count": null,
   "id": "948033e7",
   "metadata": {},
   "outputs": [],
   "source": []
  }
 ],
 "metadata": {
  "kernelspec": {
   "display_name": "envMX",
   "language": "python",
   "name": "python3"
  },
  "language_info": {
   "codemirror_mode": {
    "name": "ipython",
    "version": 3
   },
   "file_extension": ".py",
   "mimetype": "text/x-python",
   "name": "python",
   "nbconvert_exporter": "python",
   "pygments_lexer": "ipython3",
   "version": "3.11.6"
  }
 },
 "nbformat": 4,
 "nbformat_minor": 5
}
